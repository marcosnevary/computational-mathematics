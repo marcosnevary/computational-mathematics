{
 "cells": [
  {
   "cell_type": "markdown",
   "id": "d56ebb3f",
   "metadata": {},
   "source": [
    "# **Atividade 1 - Transformações Lineares**"
   ]
  },
  {
   "cell_type": "markdown",
   "id": "9ae2baab",
   "metadata": {},
   "source": [
    "Importamos a biblioteca `matplotlib` para criar as visualizações gráficas e o `numpy` para realizar os cálculos matriciais."
   ]
  },
  {
   "cell_type": "code",
   "execution_count": null,
   "id": "bf3f6b62",
   "metadata": {},
   "outputs": [],
   "source": [
    "import matplotlib.pyplot as plt\n",
    "import numpy as np"
   ]
  },
  {
   "cell_type": "markdown",
   "id": "ab25ddd3",
   "metadata": {},
   "source": [
    "Definimos a função `plot_vectors` para criar a visualização dos vetores em um gráfico usando a função `plot_graph` como auxiliar."
   ]
  },
  {
   "cell_type": "code",
   "execution_count": null,
   "id": "0e4bf9ed",
   "metadata": {},
   "outputs": [],
   "source": [
    "def plot_vectors(\n",
    "    titulos: list[str],\n",
    "    vectors1: np.ndarray,\n",
    "    vectors2: np.ndarray | None = None,\n",
    "    *,\n",
    "    comparison: bool,\n",
    ") -> None:\n",
    "    def plot_graph(vectors: list, ax: plt.Axes, title: str, colors: np.ndarray) -> None:\n",
    "        ax.set_xlim(-5, 5)\n",
    "        ax.set_ylim(-5, 5)\n",
    "        ax.axhline(0, color=\"black\", linewidth=1)\n",
    "        ax.axvline(0, color=\"black\", linewidth=1)\n",
    "        ax.set_xticks(range(-5, 6))\n",
    "        ax.set_yticks(range(-5, 6))\n",
    "        ax.grid(visible=True)\n",
    "\n",
    "        for i, (x, y) in enumerate(vectors):\n",
    "            ax.quiver(0, 0, x, y, angles=\"xy\", scale_units=\"xy\", scale=1, color=colors[i], zorder=3)\n",
    "            pos_x = x + 0.1\n",
    "            pos_y = y + 0.1 if y >= 0 else y - 0.4\n",
    "            ax.text(pos_x, pos_y, f\"({x}, {y})\", fontsize=12, color=colors[i])\n",
    "\n",
    "        ax.set_xlabel(\"X\")\n",
    "        ax.set_ylabel(\"Y\")\n",
    "        ax.set_title(title)\n",
    "\n",
    "    colors = plt.cm.tab10(range(len(vectors1)))\n",
    "\n",
    "    if not comparison:\n",
    "        _, ax = plt.subplots(figsize=(6, 6))\n",
    "        plot_graph(vectors1, ax, titulos[0], colors)\n",
    "\n",
    "    else:\n",
    "        _, axes = plt.subplots(1, 2, figsize=(12, 6))\n",
    "        plot_graph(vectors1, axes[0], titulos[0], colors)\n",
    "        plot_graph(vectors2, axes[1], titulos[1], colors)\n",
    "\n",
    "    plt.show()"
   ]
  },
  {
   "cell_type": "markdown",
   "id": "59d27bf5",
   "metadata": {},
   "source": [
    "## 1.1 Vetores Unitários"
   ]
  },
  {
   "cell_type": "markdown",
   "id": "22565b24",
   "metadata": {},
   "source": [
    "Os vetores unitários de $\\mathbb{R}^2$ são $\\hat i = \\begin{bmatrix} 1 \\\\ 0 \\end{bmatrix}$ e $\\hat j = \\begin{bmatrix} 0 \\\\ 1 \\end{bmatrix}$. Dessa forma, matricialmente, temos $\\begin{bmatrix} 1 & 0 \\\\ 0 & 1 \\end{bmatrix}$."
   ]
  },
  {
   "cell_type": "code",
   "execution_count": null,
   "id": "1ad11940",
   "metadata": {},
   "outputs": [],
   "source": [
    "unit_vectors = [[1, 0], [0, 1]]\n",
    "\n",
    "plot_vectors([\"Vetores Unitários\"], unit_vectors, comparison=False)"
   ]
  },
  {
   "cell_type": "markdown",
   "id": "78920cd1",
   "metadata": {},
   "source": [
    "## 1.2 Rotação Horária de 90°"
   ]
  },
  {
   "cell_type": "markdown",
   "id": "0090b217",
   "metadata": {},
   "source": [
    "### 1.2.1 Explicação"
   ]
  },
  {
   "cell_type": "markdown",
   "id": "523f64bc",
   "metadata": {},
   "source": [
    "Aplicar uma rotação horário de 90° nos vetores unitários fará o $\\hat i$ que está no ponto $(1, 0)$ ir para o $(0, -1)$ e o $\\hat j$ que está no ponto $(0, 1)$ ir para o $(1, 0)$. Ou seja, após a rotação, $\\hat i = \\begin{bmatrix} 0 \\\\ -1 \\end{bmatrix}$ e $\\hat j = \\begin{bmatrix} 1 \\\\ 0 \\end{bmatrix}$. Dessa forma, matricialmente, temos $\\begin{bmatrix} 0 & 1 \\\\ -1 & 0 \\end{bmatrix}$,"
   ]
  },
  {
   "cell_type": "code",
   "execution_count": null,
   "id": "48d1a329",
   "metadata": {},
   "outputs": [],
   "source": [
    "unit_vectors = [[1, 0], [0, 1]]\n",
    "rotationed_unit_vectors = [[0, -1], [1, 0]]\n",
    "\n",
    "plot_vectors(\n",
    "    [\"Antes da Rotação Horária de 90°\", \"Depois da Rotação Horária de 90°\"],\n",
    "    unit_vectors,\n",
    "    rotationed_unit_vectors,\n",
    "    comparison=True,\n",
    ")"
   ]
  },
  {
   "cell_type": "markdown",
   "id": "5fa17238",
   "metadata": {},
   "source": [
    "Assim, concluímos que a matriz de rotação horária de 90° é dada por $R = \\begin{bmatrix} 0 & 1 \\\\ -1 & 0 \\end{bmatrix}$."
   ]
  },
  {
   "cell_type": "code",
   "execution_count": null,
   "id": "7a249f91",
   "metadata": {},
   "outputs": [],
   "source": [
    "rotation_matrix = np.array([[0, 1], [-1, 0]])"
   ]
  },
  {
   "cell_type": "markdown",
   "id": "565c8f37",
   "metadata": {},
   "source": [
    "### 1.2.2 Exemplo"
   ]
  },
  {
   "cell_type": "markdown",
   "id": "aa4db19c",
   "metadata": {},
   "source": [
    "Usamos 3 vetores arbitrários e multiplicamos cada um pela matriz de rotação encontrada anteriormente para visualizar a transformação."
   ]
  },
  {
   "cell_type": "code",
   "execution_count": null,
   "id": "60cb7a19",
   "metadata": {},
   "outputs": [],
   "source": [
    "vectors = np.array([[2, 3], [-1, 2]])\n",
    "rotationed_vectors = np.array([rotation_matrix @ vector for vector in vectors])\n",
    "\n",
    "print(\"Matriz de Vetores Arbitrários:\")\n",
    "print(vectors.T)\n",
    "\n",
    "print(\"Matriz de Vetores Arbitrários após Rotação Horária de 90°:\")\n",
    "print(rotationed_vectors.T)\n",
    "\n",
    "plot_vectors(\n",
    "    [\"Antes da Rotação Horária de 90°\", \"Depois da Rotação Horária de 90°\"],\n",
    "    vectors, rotationed_vectors,\n",
    "    comparison=True,\n",
    ")"
   ]
  },
  {
   "cell_type": "markdown",
   "id": "99f02944",
   "metadata": {},
   "source": [
    "## 1.3 *Shear*"
   ]
  },
  {
   "cell_type": "markdown",
   "id": "f788de66",
   "metadata": {},
   "source": [
    "### 1.3.1 Explicação"
   ]
  },
  {
   "cell_type": "markdown",
   "id": "7e5b073b",
   "metadata": {},
   "source": [
    "O shear em $x$ (horizontal) é uma transformação que empurra para os lados todos os vetores (ou pontos) proporcionalmente ao valor de $y$. Aplicar um *shear* horizontal usando $2$ como uma constante de proporcionalidade fará o $\\hat i$ se manter no ponto $(1, 0)$, uma vez que a sua coordenada $y$ é $0$ e o $\\hat j$ que está no ponto $(0, 1)$ ir para o $(2, 1)$. Ou seja, após a aplicação do *shear* horizontal, $\\hat i = \\begin{bmatrix} 1 \\\\ 0 \\end{bmatrix}$ e $\\hat j = \\begin{bmatrix} 2 \\\\ 1 \\end{bmatrix}$. Dessa forma, matricialmente, temos $\\begin{bmatrix} 1 & 2 \\\\ 0 & 1 \\end{bmatrix}$,"
   ]
  },
  {
   "cell_type": "code",
   "execution_count": null,
   "id": "71a66ed6",
   "metadata": {},
   "outputs": [],
   "source": [
    "unit_vectors = [[1, 0], [0, 1]]\n",
    "sheared_unit_vectors = [[1, 0], [2, 1]]\n",
    "\n",
    "plot_vectors(\n",
    "    [\"Antes do Shear Horizontal\", \"Depois do Shear Horizontal\"],\n",
    "    unit_vectors,\n",
    "    sheared_unit_vectors,\n",
    "    comparison=True,\n",
    ")"
   ]
  },
  {
   "cell_type": "markdown",
   "id": "8c8365ba",
   "metadata": {},
   "source": [
    "Generalizando para qualquer constante de proporcionalidade $k$, concluímos que a matriz de *shear* horizontal é dada por $S_x = \\begin{bmatrix} 1 & k \\\\ 0 & 1 \\end{bmatrix}$. Onde a transformação linear aplicada é $T(x, y) = (x + ky, y)$."
   ]
  },
  {
   "cell_type": "code",
   "execution_count": null,
   "id": "d1e092a4",
   "metadata": {},
   "outputs": [],
   "source": [
    "def get_shear_matrix(k: float) -> np.ndarray:\n",
    "    return np.array([[1, k], [0, 1]])"
   ]
  },
  {
   "cell_type": "markdown",
   "id": "cec6a96b",
   "metadata": {},
   "source": [
    "### 1.3.2 Exemplo"
   ]
  },
  {
   "cell_type": "code",
   "execution_count": null,
   "id": "5ee71933",
   "metadata": {},
   "outputs": [],
   "source": [
    "k = 2\n",
    "shear_matrix = get_shear_matrix(k)\n",
    "\n",
    "vectors = np.array([[1, 2], [-1, -1]])\n",
    "sheared_vectors = np.array([shear_matrix @ vector for vector in vectors])\n",
    "\n",
    "print(f\"Matriz de Shear Horizontal (k = {k}):\")\n",
    "print(shear_matrix)\n",
    "\n",
    "print(\"Matriz de Vetores Arbitrários:\")\n",
    "print(vectors.T)\n",
    "\n",
    "print(\"Matriz de Vetores Arbitrários após Shear Horizontal:\")\n",
    "print(sheared_vectors.T)\n",
    "\n",
    "plot_vectors(\n",
    "    [\"Antes do Shear Horizontal\", \"Depois do Shear Horizontal\"],\n",
    "    vectors,\n",
    "    sheared_vectors,\n",
    "    comparison=True,\n",
    ")"
   ]
  }
 ],
 "metadata": {
  "kernelspec": {
   "display_name": "computational-mathematics",
   "language": "python",
   "name": "python3"
  },
  "language_info": {
   "codemirror_mode": {
    "name": "ipython",
    "version": 3
   },
   "file_extension": ".py",
   "mimetype": "text/x-python",
   "name": "python",
   "nbconvert_exporter": "python",
   "pygments_lexer": "ipython3",
   "version": "3.13.7"
  }
 },
 "nbformat": 4,
 "nbformat_minor": 5
}
